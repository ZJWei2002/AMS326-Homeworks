{
 "cells": [
  {
   "cell_type": "markdown",
   "metadata": {},
   "source": [
    "Problem 1.1\n",
    "\n"
   ]
  },
  {
   "cell_type": "code",
   "execution_count": null,
   "metadata": {},
   "outputs": [],
   "source": [
    "import math\n",
    "import random\n",
    "\n",
    "# Given function\n",
    "\n",
    "def f(x):\n",
    "    return math.exp(-x ** 3) - x ** 4 - math.sin(x)\n",
    "\n",
    "def f_prime(x):\n",
    "    return -3 * x ** 2 * math.exp(-x ** 3) - 4 * x ** 3 - math.cos(x)\n"
   ]
  },
  {
   "cell_type": "code",
   "execution_count": null,
   "metadata": {},
   "outputs": [
    {
     "data": {
      "text/plain": [
       "Iteration #1: a = -1 b = 1 c = 0.0\n",
       "Iteration #2: a = 0.0 b = 1 c = 0.5\n",
       "Iteration #3: a = 0.5 b = 1 c = 0.75\n",
       "Iteration #4: a = 0.5 b = 0.75 c = 0.625\n",
       "Iteration #5: a = 0.625 b = 0.75 c = 0.6875\n",
       "Iteration #6: a = 0.625 b = 0.6875 c = 0.65625\n",
       "Iteration #7: a = 0.625 b = 0.65625 c = 0.64062\n",
       "Iteration #8: a = 0.64062 b = 0.65625 c = 0.64844\n",
       "Iteration #9: a = 0.64062 b = 0.64844 c = 0.64453\n",
       "Iteration #10: a = 0.64062 b = 0.64453 c = 0.64258\n",
       "Iteration #11: a = 0.64062 b = 0.64258 c = 0.6416\n",
       "Iteration #12: a = 0.64062 b = 0.6416 c = 0.64111\n",
       "Iteration #13: a = 0.64111 b = 0.6416 c = 0.64136\n",
       "Iteration #14: a = 0.64136 b = 0.6416 c = 0.64148\n",
       "Iteration #15: a = 0.64148 b = 0.6416 c = 0.64154\n",
       "\n",
       "Root: 0.641571044921875, iterations: 15, flops: 195 \n"
      ]
     },
     "metadata": {},
     "output_type": "display_data"
    }
   ],
   "source": [
    "def bisection(fun = f, a = -1, b = 1, tol = 5e-5):\n",
    "    # validations\n",
    "    if fun(a) == 0:\n",
    "        return a\n",
    "    if fun(b) == 0:\n",
    "        return b\n",
    "    if fun(a) * fun(b) > 0 or a >= b:\n",
    "        raise RuntimeError(\"Invalid input.\")\n",
    "    \n",
    "    i = 0 # counter for iterations\n",
    "    f = 0 # counter for flops\n",
    "    while (b - a) / 2 > tol:\n",
    "        i += 1\n",
    "        c = (a + b) / 2\n",
    "        print(f\"Iteration #{i}: a = {round(a, 5)} b = {round(b, 5)} c = {round(c, 5)}\")\n",
    "        f += 13 # 2 divisions above + the operation below\n",
    "        if fun(a) * fun(c) < 0:\n",
    "            b = c\n",
    "        elif fun(a) * fun(c) > 0:\n",
    "            a = c\n",
    "        else:\n",
    "            return c\n",
    "    \n",
    "    return (a + b) / 2, i, f\n",
    "\n",
    "try:\n",
    "    root, iters, flops = bisection()\n",
    "    print(f\"\\nRoot: {root}, iterations: {iters}, flops: {flops} \")\n",
    "except RuntimeError as e:\n",
    "    print(e)"
   ]
  },
  {
   "cell_type": "code",
   "execution_count": null,
   "metadata": {},
   "outputs": [
    {
     "data": {
      "text/plain": [
       "Iteration #1: x0 = 0 x1 = 1.0\n",
       "Iteration #2: x0 = 1.0 x1 = 0.73891\n",
       "Iteration #3: x0 = 0.73891 x1 = 0.65085\n",
       "Iteration #4: x0 = 0.65085 x1 = 0.64168\n",
       "Iteration #5: x0 = 0.64168 x1 = 0.64158\n",
       "Iteration #6: x0 = 0.64158 x1 = 0.64158\n",
       "\n",
       "Root: 0.6415825418672648, iterations: 6, flops: 102 \n"
      ]
     },
     "metadata": {},
     "output_type": "display_data"
    }
   ],
   "source": [
    "def newton(fun = f, fun_prime = f_prime, x0 = 0, tol = 5e-5, max = 100):\n",
    "    i = 0 # counter for iterations\n",
    "    f = 0 # counter for flops\n",
    "    while i < max:\n",
    "        i += 1\n",
    "        x1 = x0 - fun(x0) / fun_prime(x0)\n",
    "        print(f\"Iteration #{i}: x0 = {round(x0, 5)} x1 = {round(x1, 5)}\")\n",
    "        f += 17\n",
    "        if abs(x1 - x0) < tol:\n",
    "            return x1, i, f\n",
    "        x0 = x1\n",
    "    raise RuntimeError\n",
    "\n",
    "try:\n",
    "    root, iters, flops = newton()\n",
    "    print(f\"\\nRoot: {root}, iterations: {iters}, flops: {flops} \")\n",
    "except RuntimeError as e:\n",
    "    print(e)"
   ]
  },
  {
   "cell_type": "code",
   "execution_count": null,
   "metadata": {},
   "outputs": [
    {
     "data": {
      "text/plain": [
       "Iteration #0: x0 = -1 x1 = 1\n",
       "Iteration #1: x0 = -1 x1 = 1 x2 = 0.2693\n",
       "Iteration #2: x0 = 1 x1 = 0.2693 x2 = 0.50674\n",
       "Iteration #3: x0 = 0.2693 x1 = 0.50674 x2 = 0.70949\n",
       "Iteration #4: x0 = 0.50674 x1 = 0.70949 x2 = 0.63128\n",
       "Iteration #5: x0 = 0.70949 x1 = 0.63128 x2 = 0.64084\n",
       "Iteration #6: x0 = 0.63128 x1 = 0.64084 x2 = 0.64159\n",
       "Iteration #7: x0 = 0.64084 x1 = 0.64159 x2 = 0.64158\n",
       "\n",
       "Root: 0.6415825351325788, iterations: 7, flops: 147 \n"
      ]
     },
     "metadata": {},
     "output_type": "display_data"
    }
   ],
   "source": [
    "def secant(fun  = f, x0 = -1, x1 = 1, tol = 5e-5, max = 100):\n",
    "    i = 0 # counter for iterations\n",
    "    f = 0 # counter for flops\n",
    "    print(f\"Iteration #0: x0 = {round(x0, 5)} x1 = {round(x1, 5)}\")\n",
    "    while i < max:\n",
    "        i += 1\n",
    "        x2 = x1 - fun(x1) * (x1 - x0) / (fun(x1) - fun(x0)) \n",
    "        print(f\"Iteration #{i}: x0 = {round(x0, 5)} x1 = {round(x1, 5)} x2 = {round(x2, 5)}\")\n",
    "        f += 21\n",
    "        if abs(x2 - x1) < tol:\n",
    "            return x2, i, f\n",
    "        x0 = x1\n",
    "        x1 = x2\n",
    "    raise RuntimeError\n",
    "\n",
    "try:\n",
    "    root, iters, flops = secant()\n",
    "    print(f\"\\nRoot: {root}, iterations: {iters}, flops: {flops} \")\n",
    "except RuntimeError as e:\n",
    "    print(e)"
   ]
  },
  {
   "cell_type": "code",
   "execution_count": null,
   "metadata": {},
   "outputs": [
    {
     "data": {
      "text/plain": [
       "\n",
       "Root: 0.6415690826699575, iterations: 5973, flops: 35838 \n"
      ]
     },
     "metadata": {},
     "output_type": "display_data"
    }
   ],
   "source": [
    "def monte_carlo(fun = f, a = 0.5, b = 0.75, tol = 5e-5, max = 10000):\n",
    "    # validations\n",
    "    if fun(a) == 0:\n",
    "        return a\n",
    "    if fun(b) == 0:\n",
    "        return b\n",
    "    if fun(a) * fun(b) > 0 or a >= b:\n",
    "        raise RuntimeError(\"Invalid input.\")\n",
    "    \n",
    "    i = 0 # counter for iterations\n",
    "    f = 0 # counter for flops\n",
    "    while i < max:\n",
    "        i += 1\n",
    "        x = random.uniform(a, b)\n",
    "        #print(f\"Iteration #{i}: x = {round(x, 5)} f(x) = {round(fun(x), 5)}\")\n",
    "        f += 6\n",
    "        if abs(fun(x)) < tol:\n",
    "            return x, i, f\n",
    "    raise RuntimeError(\"number of iteration exceeds maximum.\")\n",
    "    \n",
    "try:\n",
    "    root, iters, flops = monte_carlo()\n",
    "    print(f\"\\nRoot: {root}, iterations: {iters}, flops: {flops} \")\n",
    "except RuntimeError as e:\n",
    "    print(e)"
   ]
  },
  {
   "cell_type": "markdown",
   "metadata": {},
   "source": [
    "Problem 1.2\n"
   ]
  },
  {
   "cell_type": "code",
   "execution_count": null,
   "metadata": {},
   "outputs": [
    {
     "data": {
      "text/plain": [
       "P4(6) = 452.0\n"
      ]
     },
     "metadata": {},
     "output_type": "display_data"
    }
   ],
   "source": [
    "def lagrange(x, points = {1: 412, 2: 407, 3: 397, 4: 398, 5: 417}):\n",
    "    Pn = 0\n",
    "    for point in points:\n",
    "        term = points.get(point)\n",
    "        for t in points.keys():\n",
    "            if t != point:\n",
    "                term *= (x - t) / (point - t)\n",
    "        Pn += term\n",
    "    return Pn\n",
    "\n",
    "x = 6\n",
    "print(f\"P4({x}) = {lagrange(x)}\")"
   ]
  },
  {
   "cell_type": "code",
   "execution_count": null,
   "metadata": {},
   "outputs": [
    {
     "data": {
      "text/plain": [
       "Q2(6) = 435.9999999999998\n"
      ]
     },
     "metadata": {},
     "output_type": "display_data"
    }
   ],
   "source": [
    "def quadratic(x, points = {1: 412, 2: 407, 3: 397, 4: 398, 5: 417}):\n",
    "    # calculation for A^T * A\n",
    "    n = len(points)\n",
    "    sum_x4 = sum(t**4 for t in points.keys())\n",
    "    sum_x3 = sum(t**3 for t in points.keys())\n",
    "    sum_x2 = sum(t**2 for t in points.keys())\n",
    "    sum_x = sum(points.keys())\n",
    "    sum_y = sum(points.values())\n",
    "    sum_xy = sum(p * points[p] for p in points)\n",
    "    sum_x2y = sum(p**2 * points[p] for p in points)\n",
    "    # calculation for A^T * b\n",
    "    LHS = [[sum_x4, sum_x3, sum_x2], [sum_x3, sum_x2, sum_x], [sum_x2, sum_x, n]]\n",
    "    RHS = [sum_x2y, sum_xy, sum_y]\n",
    "\n",
    "    # Solve for LHS * [a2, a1, a0]^T = RHS, method borrowed from chatGPT\n",
    "    # Gaussian elimination\n",
    "    for i in range(3):\n",
    "        max_row = max(range(i, 3), key=lambda r: abs(LHS[r][i]))\n",
    "        LHS[i], LHS[max_row] = LHS[max_row], LHS[i]\n",
    "        RHS[i], RHS[max_row] = RHS[max_row], RHS[i]\n",
    "        for j in range(i + 1, 3):\n",
    "            factor = LHS[j][i] / LHS[i][i]\n",
    "            for k in range(i, 3):\n",
    "                LHS[j][k] -= factor * LHS[i][k]\n",
    "            RHS[j] -= factor * RHS[i]\n",
    "\n",
    "    # Back substitution\n",
    "    a0 = RHS[2] / LHS[2][2]\n",
    "    a1 = (RHS[1] - LHS[1][2] * a0) / LHS[1][1]\n",
    "    a2 = (RHS[0] - LHS[0][1] * a1 - LHS[0][2] * a0) / LHS[0][0]\n",
    "\n",
    "    return a2 * x**2 + a1 * x + a0\n",
    "\n",
    "x = 6\n",
    "print(f\"Q2({x}) = {quadratic(x)}\")"
   ]
  }
 ],
 "metadata": {
  "language_info": {
   "name": "python"
  }
 },
 "nbformat": 4,
 "nbformat_minor": 2
}
