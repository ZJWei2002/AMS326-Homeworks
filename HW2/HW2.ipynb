{
 "cells": [
  {
   "cell_type": "markdown",
   "metadata": {},
   "source": [
    "## Problem 2.1\n",
    "\n"
   ]
  },
  {
   "cell_type": "code",
   "execution_count": 121,
   "metadata": {},
   "outputs": [],
   "source": [
    "import time\n",
    "import numpy as np\n",
    "PI = np.pi\n",
    "\n",
    "def disk_area(r_2):  \n",
    "    return np.pi * r_2\n",
    "\n",
    "def kidney_polar(theta):\n",
    "    r = np.cos(theta) ** 3 + np.sin(theta) ** 3\n",
    "    return max(r, 0) # r cannot be negative"
   ]
  },
  {
   "cell_type": "markdown",
   "metadata": {},
   "source": [
    "### a) Rectangle Method"
   ]
  },
  {
   "cell_type": "code",
   "execution_count": 122,
   "metadata": {},
   "outputs": [
    {
     "name": "stdout",
     "output_type": "stream",
     "text": [
      "Approximated Area: 0.589\n",
      "Runtime: 0.025470972061157227\n"
     ]
    }
   ],
   "source": [
    "# Compute the area of kidney by midpoint rectangle (in fact, circular cut) method\n",
    "def rectangle_method(f, intervals):      \n",
    "    r_vals = np.linspace(0, 2 * PI, intervals) \n",
    "    dt = 2 * PI / intervals\n",
    "    kidney_area = 0\n",
    "    for i in range(intervals - 1):     \n",
    "        r_mid = r_vals[i] + dt / 2\n",
    "        kidney_area += 0.5 * dt * f(r_mid)**2  \n",
    "    return kidney_area\n",
    "\n",
    "t0 = time.time()\n",
    "remaining_area = rectangle_method(kidney_polar, 10000) - disk_area(0.125)\n",
    "print(f\"Approximated Area: {remaining_area:.4g}\")\n",
    "print(f\"Runtime: {str(time.time() - t0)}\")"
   ]
  },
  {
   "cell_type": "markdown",
   "metadata": {},
   "source": [
    "### b) Trapezoidal Method"
   ]
  },
  {
   "cell_type": "code",
   "execution_count": 123,
   "metadata": {},
   "outputs": [
    {
     "name": "stdout",
     "output_type": "stream",
     "text": [
      "The estimated area: 0.589\n",
      "Runtime: 0.04827451705932617\n"
     ]
    }
   ],
   "source": [
    "# Compute the area of kidney by midpoint rectangle (in fact, circular cut) method\n",
    "def trapezoidal_method(f, intervals):  \n",
    "    r_vals = np.linspace(0, 2 * PI, intervals) \n",
    "    step = 2 * PI / intervals  \n",
    "    kidney_area = 0\n",
    "    for i in range(intervals - 1):    \n",
    "        r0 = f(r_vals[i])\n",
    "        r1= f(r_vals[i+1])\n",
    "        kidney_area += 0.5 * step * ((r0 + r1) / 2)**2\n",
    "    return kidney_area\n",
    "\n",
    "t0 = time.time()\n",
    "remaining_area = trapezoidal_method(kidney_polar, 10000) - disk_area(0.125)\n",
    "print(f\"The estimated area: {remaining_area:.4g}\")\n",
    "print(f\"Runtime: {str(time.time() - t0)}\")\n"
   ]
  },
  {
   "cell_type": "markdown",
   "metadata": {},
   "source": [
    "## Problem 2.2\n"
   ]
  }
 ],
 "metadata": {
  "kernelspec": {
   "display_name": "None",
   "language": "python",
   "name": "none"
  },
  "language_info": {
   "codemirror_mode": {
    "name": "ipython",
    "version": 3
   },
   "file_extension": ".py",
   "mimetype": "text/x-python",
   "name": "python",
   "nbconvert_exporter": "python",
   "pygments_lexer": "ipython3",
   "version": "3.12.9"
  }
 },
 "nbformat": 4,
 "nbformat_minor": 2
}
