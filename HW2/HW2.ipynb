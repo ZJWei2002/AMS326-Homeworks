{
 "cells": [
  {
   "cell_type": "markdown",
   "metadata": {},
   "source": [
    "## Problem 2.1\n",
    "\n"
   ]
  },
  {
   "cell_type": "code",
   "execution_count": 121,
   "metadata": {},
   "outputs": [],
   "source": [
    "import time\n",
    "import numpy as np\n",
    "PI = np.pi\n",
    "\n",
    "def disk_area(r_2):  \n",
    "    return np.pi * r_2\n",
    "\n",
    "def kidney_polar(theta):\n",
    "    r = np.cos(theta) ** 3 + np.sin(theta) ** 3\n",
    "    return max(r, 0) # r cannot be negative"
   ]
  },
  {
   "cell_type": "markdown",
   "metadata": {},
   "source": [
    "### a) Rectangle Method"
   ]
  },
  {
   "cell_type": "code",
   "execution_count": null,
   "metadata": {},
   "outputs": [
    {
     "name": "stdout",
     "output_type": "stream",
     "text": [
      "Approximated Area: 0.589\n",
      "Runtime: 0.025263309478759766\n"
     ]
    }
   ],
   "source": [
    "# Compute the area of kidney by midpoint rectangle (in fact, circular cut) method\n",
    "def rectangle_method(f, intervals = 10000):    \n",
    "    t_vals = np.linspace(0, 2 * PI, intervals) # Create intervals starting at each t's values\n",
    "    dt = 2 * PI / intervals # delta theta\n",
    "    kidney_area = 0\n",
    "    for i in range(intervals - 1):     \n",
    "        t_mid = t_vals[i] + dt / 2 # caculate each midpoint\n",
    "        kidney_area += 0.5 * dt * f(t_mid)**2  \n",
    "    return kidney_area - disk_area(0.125)\n",
    "\n",
    "t0 = time.time()\n",
    "print(f\"Approximated Area: {rectangle_method(kidney_polar):.4g}\")\n",
    "print(f\"Runtime: {str(time.time() - t0)}\")"
   ]
  },
  {
   "cell_type": "markdown",
   "metadata": {},
   "source": [
    "### b) Trapezoidal Method"
   ]
  },
  {
   "cell_type": "code",
   "execution_count": null,
   "metadata": {},
   "outputs": [
    {
     "name": "stdout",
     "output_type": "stream",
     "text": [
      "The estimated area: 0.589\n",
      "Runtime: 0.04434680938720703\n"
     ]
    }
   ],
   "source": [
    "# Compute the area of kidney by midpoint rectangle (in fact, circular cut) method\n",
    "def trapezoidal_method(f, intervals = 10000):  \n",
    "    t_vals = np.linspace(0, 2 * PI, intervals) # Create intervals starting at each t's values\n",
    "    dt = 2 * PI / intervals # delta theta\n",
    "    kidney_area = 0\n",
    "    for i in range(intervals - 1):    \n",
    "        r0 = f(t_vals[i])\n",
    "        r1 = f(t_vals[i+1])\n",
    "        kidney_area += 0.5 * dt * ((r0 + r1) / 2)**2\n",
    "    return kidney_area - disk_area(0.125)\n",
    "\n",
    "t0 = time.time()\n",
    "print(f\"The estimated area: {trapezoidal_method(kidney_polar):.4g}\")\n",
    "print(f\"Runtime: {str(time.time() - t0)}\")\n"
   ]
  },
  {
   "cell_type": "markdown",
   "metadata": {},
   "source": [
    "## Problem 2.2\n"
   ]
  },
  {
   "cell_type": "code",
   "execution_count": 253,
   "metadata": {},
   "outputs": [],
   "source": [
    "N = 66\n",
    "A = np.random.uniform(-1, 1, size=(N, N))\n",
    "b = [1] * N"
   ]
  },
  {
   "cell_type": "code",
   "execution_count": null,
   "metadata": {},
   "outputs": [
    {
     "name": "stdout",
     "output_type": "stream",
     "text": [
      "Result of Guassian elimination:\n",
      " -0.158439    1.285986   -0.652349     0.30449   -2.536855   -0.687919  \n",
      " -0.561605    2.524218   -2.155369   -0.838914    1.211822   -1.926734  \n",
      " -3.971687   -1.424921    3.249635   -4.491046     -2.3596   -4.765815  \n",
      "  4.611106    3.067456   -1.454365   -3.128631   -2.132153   -0.796626  \n",
      "   0.64394   -2.844908    -0.83723    1.585622    1.496299    0.089564  \n",
      "  0.840277    1.870375   -2.785523    -3.08405   -1.372311    0.441761  \n",
      "  2.642078     3.25126    1.188435   -3.512488    2.450568   -2.434003  \n",
      " -0.449853    3.837811    3.471149   -0.927909    5.540326    -0.29337  \n",
      "  0.795078    0.880608    0.349533    1.935531    3.364053    0.342582  \n",
      "  1.733552   -3.889941    2.028585    0.446056      1.7471    0.602806  \n",
      " -1.183483   -0.371756    1.864025   -2.994108   -2.422228    2.110202  \n",
      "Runtime: 0.01960301399230957\n",
      "\n",
      "Result of numpy calculation:\n",
      " -0.158439    1.285986   -0.652349     0.30449   -2.536855   -0.687919  \n",
      " -0.561605    2.524218   -2.155369   -0.838914    1.211822   -1.926734  \n",
      " -3.971687   -1.424921    3.249635   -4.491046     -2.3596   -4.765815  \n",
      "  4.611106    3.067456   -1.454365   -3.128631   -2.132153   -0.796626  \n",
      "   0.64394   -2.844908    -0.83723    1.585622    1.496299    0.089564  \n",
      "  0.840277    1.870375   -2.785523    -3.08405   -1.372311    0.441761  \n",
      "  2.642078     3.25126    1.188435   -3.512488    2.450568   -2.434003  \n",
      " -0.449853    3.837811    3.471149   -0.927909    5.540326    -0.29337  \n",
      "  0.795078    0.880608    0.349533    1.935531    3.364053    0.342582  \n",
      "  1.733552   -3.889941    2.028585    0.446056      1.7471    0.602806  \n",
      " -1.183483   -0.371756    1.864025   -2.994108   -2.422228    2.110202  \n"
     ]
    }
   ],
   "source": [
    "def gaussian_elimination():\n",
    "    # Combine A and b to create an augmented matrix\n",
    "    augmented = np.column_stack((A, b))\n",
    "    # Forward elimination\n",
    "    for i in range(N):\n",
    "        # Find the pivot row\n",
    "        max_row = i\n",
    "        max_val = abs(augmented[i, i])\n",
    "        for k in range(i + 1, N):\n",
    "            if abs(augmented[k, i]) > max_val:\n",
    "                max_row = k\n",
    "                max_val = abs(augmented[k, i])\n",
    "        \n",
    "        # Swap the current row with the pivot row if necessary\n",
    "        if max_row != i:\n",
    "            augmented[[i, max_row]] = augmented[[max_row, i]]\n",
    "        \n",
    "        # Eliminate entries below the pivot\n",
    "        for j in range(i + 1, N):\n",
    "            factor = augmented[j, i] / augmented[i, i]\n",
    "            augmented[j, i :] -= factor * augmented[i, i :]\n",
    "    \n",
    "    # Back substitution\n",
    "    x = [0] * N\n",
    "    for i in range(N - 1, -1, -1):\n",
    "        x[i] = float((augmented[i, N] - np.dot(augmented[i, i + 1 : N], x[i + 1 :])) / augmented[i, i])\n",
    "    \n",
    "    return x\n",
    "\n",
    "\n",
    "t0 = time.time()\n",
    "x = gaussian_elimination()\n",
    "print(\"Result of Guassian elimination:\")\n",
    "for i in range(11):\n",
    "    for j in range(6):\n",
    "        print(str(round(x[i * 6 + j], 6)).rjust(10), end = \"  \")\n",
    "    print()\n",
    "print(f\"Runtime: {str(time.time() - t0)}\\n\")\n",
    "\n",
    "print(\"Result of numpy calculation:\")\n",
    "x = np.linalg.solve(A, b)\n",
    "for i in range(11):\n",
    "    for j in range(6):\n",
    "        print(str(round(x[i * 6 + j], 6)).rjust(10), end = \"  \")\n",
    "    print()\n"
   ]
  }
 ],
 "metadata": {
  "kernelspec": {
   "display_name": "None",
   "language": "python",
   "name": "none"
  },
  "language_info": {
   "codemirror_mode": {
    "name": "ipython",
    "version": 3
   },
   "file_extension": ".py",
   "mimetype": "text/x-python",
   "name": "python",
   "nbconvert_exporter": "python",
   "pygments_lexer": "ipython3",
   "version": "3.12.9"
  }
 },
 "nbformat": 4,
 "nbformat_minor": 2
}
